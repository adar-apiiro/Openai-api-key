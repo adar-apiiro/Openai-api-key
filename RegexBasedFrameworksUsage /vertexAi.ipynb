{
  "cells": [
    {
      "cell_type": "code",
      "execution_count": null,
      "metadata": {
        "id": "PyQmSRbKA8r-"
      },
      "outputs": [],
      "source": [
        "import vertexai\n",
        "\n",
        "# Initialize the Vertex AI environment\n",
        "vertexai.init(project='your-project-id', location='your-location')"
      ]
    }
  ],
  "metadata": {
    "colab": {
      "name": "vertexAi.ipynb",
      "toc_visible": true
    },
    "kernelspec": {
      "display_name": "Python 3",
      "name": "python3"
    }
  },
  "nbformat": 4,
  "nbformat_minor": 0
}
